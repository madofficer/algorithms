{
 "cells": [
  {
   "cell_type": "code",
   "id": "initial_id",
   "metadata": {
    "collapsed": true,
    "ExecuteTime": {
     "end_time": "2024-11-23T16:39:46.398313Z",
     "start_time": "2024-11-23T16:39:45.816568Z"
    }
   },
   "source": [
    "import numpy as np\n",
    "from matplotlib import pyplot as plt"
   ],
   "outputs": [],
   "execution_count": 1
  },
  {
   "metadata": {},
   "cell_type": "markdown",
   "source": "",
   "id": "cd8db53869844421"
  },
  {
   "metadata": {
    "ExecuteTime": {
     "end_time": "2024-11-23T16:39:46.409957Z",
     "start_time": "2024-11-23T16:39:46.402327Z"
    }
   },
   "cell_type": "code",
   "source": [
    "x_0 = 1\n",
    "y_0 = 1\n",
    "dx = 1e-3\n",
    "n = 500"
   ],
   "id": "964512ef8e888b94",
   "outputs": [],
   "execution_count": 2
  },
  {
   "metadata": {
    "ExecuteTime": {
     "end_time": "2024-11-23T16:39:46.639458Z",
     "start_time": "2024-11-23T16:39:46.633482Z"
    }
   },
   "cell_type": "code",
   "source": [
    "@np.vectorize\n",
    "def poly(x):\n",
    "    return 1 + 2 * (x - 1) + 4 * (x - 1) ** 2 + 25 / 3 * (x - 1) ** 3 + 6 * (x - 1) ** 4"
   ],
   "id": "87417ef3f7677da",
   "outputs": [],
   "execution_count": 3
  },
  {
   "metadata": {
    "ExecuteTime": {
     "end_time": "2024-11-23T16:39:46.657233Z",
     "start_time": "2024-11-23T16:39:46.652862Z"
    }
   },
   "cell_type": "code",
   "source": [
    "x_1 = x_0 + dx * n\n",
    "XY_poly_approx = poly(np.arange(x_0, x_1, dx))"
   ],
   "id": "ea006c14d82ce067",
   "outputs": [],
   "execution_count": 4
  },
  {
   "metadata": {
    "ExecuteTime": {
     "end_time": "2024-11-23T16:39:46.677389Z",
     "start_time": "2024-11-23T16:39:46.670777Z"
    }
   },
   "cell_type": "code",
   "source": [
    "def f(x, y):\n",
    "    return x ** 2 + y ** 3"
   ],
   "id": "c9ad697a3fdfaf41",
   "outputs": [],
   "execution_count": 5
  },
  {
   "metadata": {
    "ExecuteTime": {
     "end_time": "2024-11-23T16:39:46.698314Z",
     "start_time": "2024-11-23T16:39:46.690198Z"
    }
   },
   "cell_type": "code",
   "source": [
    "def rk4(f, x0, y0, n=1000, dx=1e-3):\n",
    "    points = np.zeros((n, 2))\n",
    "    points[0] = [x0, y0]\n",
    "    \n",
    "    for i in range(1, n):\n",
    "        x, y = points[i - 1]\n",
    "        k1 = f(x, y)\n",
    "        k2 = f(x + dx / 2, y + k1 * dx / 2)\n",
    "        k3 = f(x + dx / 2, y + k2 * dx / 2)\n",
    "        k4 = f(x + dx, y + k3 * dx)\n",
    "        points[i] = (x + dx, y + dx * (k1 + 2 * k2 + 2 * k3 + k4) / 6)\n",
    "    \n",
    "    return points"
   ],
   "id": "8752aa8fd5ce26bf",
   "outputs": [],
   "execution_count": 6
  },
  {
   "metadata": {
    "ExecuteTime": {
     "end_time": "2024-11-23T16:39:47.273573Z",
     "start_time": "2024-11-23T16:39:46.713517Z"
    }
   },
   "cell_type": "code",
   "source": [
    "from scipy.integrate import solve_ivp\n",
    "x_end = 1.0\n",
    "x_0, y_0 = 1, 1\n",
    "sol = solve_ivp(f, [x_0, x_end], [y_0], method='RK45', t_eval=np.linspace(x_0, x_end, 100))\n",
    "sol.y"
   ],
   "id": "e7180cd1e59f3d6",
   "outputs": [
    {
     "data": {
      "text/plain": [
       "[]"
      ]
     },
     "execution_count": 7,
     "metadata": {},
     "output_type": "execute_result"
    }
   ],
   "execution_count": 7
  },
  {
   "metadata": {
    "ExecuteTime": {
     "end_time": "2024-11-23T16:39:47.461929Z",
     "start_time": "2024-11-23T16:39:47.287960Z"
    }
   },
   "cell_type": "code",
   "source": [
    "XY = rk4(f, x_0, y_0, n=500, dx=1e-3)\n",
    "plt.plot(XY[:, 0], XY[:, 1], label=\"RK4\")\n",
    "plt.plot(XY[:, 0], XY_poly_approx, label=\"poly\")\n",
    "plt.legend()\n",
    "plt.show()"
   ],
   "id": "43e8c9fba604c291",
   "outputs": [
    {
     "name": "stderr",
     "output_type": "stream",
     "text": [
      "D:\\Users\\Boris\\AppData\\Local\\Temp\\ipykernel_17844\\292382487.py:2: RuntimeWarning: overflow encountered in scalar power\n",
      "  return x ** 2 + y ** 3\n"
     ]
    },
    {
     "data": {
      "text/plain": [
       "<Figure size 640x480 with 1 Axes>"
      ],
      "image/png": "[encoded data removed]"
     },
     "metadata": {},
     "output_type": "display_data"
    }
   ],
   "execution_count": 8
  },
  {
   "metadata": {
    "ExecuteTime": {
     "end_time": "2024-11-23T16:39:47.495795Z",
     "start_time": "2024-11-23T16:39:47.489440Z"
    }
   },
   "cell_type": "code",
   "source": "",
   "id": "d1dbd304f4d8a5e7",
   "outputs": [],
   "execution_count": null
  },
  {
   "metadata": {
    "ExecuteTime": {
     "end_time": "2024-11-23T16:39:47.526982Z",
     "start_time": "2024-11-23T16:39:47.520430Z"
    }
   },
   "cell_type": "code",
   "source": "",
   "id": "376cd5997796fb03",
   "outputs": [],
   "execution_count": null
  }
 ],
 "metadata": {
  "kernelspec": {
   "display_name": "Python 3",
   "language": "python",
   "name": "python3"
  },
  "language_info": {
   "codemirror_mode": {
    "name": "ipython",
    "version": 2
   },
   "file_extension": ".py",
   "mimetype": "text/x-python",
   "name": "python",
   "nbconvert_exporter": "python",
   "pygments_lexer": "ipython2",
   "version": "2.7.6"
  }
 },
 "nbformat": 4,
 "nbformat_minor": 5
}
