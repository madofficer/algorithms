{
 "cells": [
  {
   "cell_type": "code",
   "id": "initial_id",
   "metadata": {
    "collapsed": true,
    "ExecuteTime": {
     "end_time": "2024-10-08T13:08:57.388287Z",
     "start_time": "2024-10-08T13:08:57.378410Z"
    }
   },
   "source": [
    "import numpy as np\n",
    "import matplotlib.pyplot as plt"
   ],
   "outputs": [],
   "execution_count": 30
  },
  {
   "metadata": {
    "ExecuteTime": {
     "end_time": "2024-10-08T13:08:57.345685Z",
     "start_time": "2024-10-08T11:31:08.872095Z"
    }
   },
   "cell_type": "code",
   "source": [
    "class GradientDescent:\n",
    "    def __init__(self, learning_rate=0.01, epochs=10 ** 6, epsilon=1e-6):\n",
    "        self.learning_rate = learning_rate\n",
    "        self.epochs = epochs\n",
    "        self.epsilon = epsilon\n",
    "        self.weights = 0\n",
    "        self.bias = 0\n",
    "\n",
    "    def fit(self, X, y):\n",
    "        previous_error = float('inf')\n",
    "        n_samples = len(X)\n",
    "\n",
    "        for epoch in range(self.epochs):\n",
    "            y_pred = self.weights * X + self.bias\n",
    "            error = y_pred - y\n",
    "            mse = np.mean(error * 2)\n",
    "            if abs(previous_error - mse) < self.epsilon:\n",
    "                print(f'Достигнута необходимая точность на {epoch + 1} эпохе')\n",
    "                break\n",
    "            \n",
    "            previous_error = mse\n",
    "            gradient = (2 / n_samples) * (X.T @ error)\n",
    "            bias_gradient = (2 / n_samples) * np.sum(error)\n",
    "            \n",
    "            self.weights -= self.learning_rate * gradient\n",
    "            self.bias -= self.learning_rate * bias_gradient \n",
    "        else:\n",
    "            print('Желаемая точность не достигнута')\n",
    "\n",
    "    def get_weights(self):\n",
    "        return self.weights, self.bias\n",
    "\n",
    "    def predict(self, X):\n",
    "        return X * self.weights + self.bias\n",
    "    "
   ],
   "id": "590cba5402693179",
   "outputs": [],
   "execution_count": 20
  },
  {
   "metadata": {
    "ExecuteTime": {
     "end_time": "2024-10-08T13:08:57.345685Z",
     "start_time": "2024-10-08T11:31:08.918859Z"
    }
   },
   "cell_type": "code",
   "source": [
    "def f(x):\n",
    "    return 3.5 * x + 4.28"
   ],
   "id": "c18d8584ec4e8bbc",
   "outputs": [],
   "execution_count": 21
  },
  {
   "metadata": {
    "ExecuteTime": {
     "end_time": "2024-10-08T13:08:57.345685Z",
     "start_time": "2024-10-08T11:31:08.950720Z"
    }
   },
   "cell_type": "code",
   "source": [
    "X = np.arange(1, 11, 1)\n",
    "y = f(X).flatten()"
   ],
   "id": "638f80f35ffbdd39",
   "outputs": [],
   "execution_count": 22
  },
  {
   "metadata": {
    "ExecuteTime": {
     "end_time": "2024-10-08T13:08:57.345685Z",
     "start_time": "2024-10-08T11:31:08.975530Z"
    }
   },
   "cell_type": "code",
   "source": "X",
   "id": "5d4ead924fd8130",
   "outputs": [
    {
     "data": {
      "text/plain": [
       "array([ 1,  2,  3,  4,  5,  6,  7,  8,  9, 10])"
      ]
     },
     "execution_count": 23,
     "metadata": {},
     "output_type": "execute_result"
    }
   ],
   "execution_count": 23
  },
  {
   "metadata": {
    "ExecuteTime": {
     "end_time": "2024-10-08T13:08:57.345685Z",
     "start_time": "2024-10-08T11:31:09.010313Z"
    }
   },
   "cell_type": "code",
   "source": "y",
   "id": "7c477de7484af443",
   "outputs": [
    {
     "data": {
      "text/plain": [
       "array([ 7.78, 11.28, 14.78, 18.28, 21.78, 25.28, 28.78, 32.28, 35.78,\n",
       "       39.28])"
      ]
     },
     "execution_count": 24,
     "metadata": {},
     "output_type": "execute_result"
    }
   ],
   "execution_count": 24
  },
  {
   "metadata": {
    "ExecuteTime": {
     "end_time": "2024-10-08T13:08:57.345685Z",
     "start_time": "2024-10-08T11:31:09.073706Z"
    }
   },
   "cell_type": "code",
   "source": [
    "model = GradientDescent()\n",
    "model.fit(X, y)"
   ],
   "id": "40456b38e0b8a48d",
   "outputs": [
    {
     "name": "stdout",
     "output_type": "stream",
     "text": [
      "Достигнута необходимая точность на 2090 эпохе\n"
     ]
    }
   ],
   "execution_count": 25
  },
  {
   "metadata": {
    "ExecuteTime": {
     "end_time": "2024-10-08T13:08:57.345685Z",
     "start_time": "2024-10-08T11:31:09.141359Z"
    }
   },
   "cell_type": "code",
   "source": "out = model.get_weights()",
   "id": "ba5a18a77e0ea2e4",
   "outputs": [],
   "execution_count": 26
  },
  {
   "metadata": {
    "ExecuteTime": {
     "end_time": "2024-10-08T13:08:57.345685Z",
     "start_time": "2024-10-08T11:31:09.168032Z"
    }
   },
   "cell_type": "code",
   "source": "out",
   "id": "fac7340bb9f66e23",
   "outputs": [
    {
     "data": {
      "text/plain": [
       "(3.5000808288953755, 4.279437283588111)"
      ]
     },
     "execution_count": 27,
     "metadata": {},
     "output_type": "execute_result"
    }
   ],
   "execution_count": 27
  },
  {
   "metadata": {
    "ExecuteTime": {
     "end_time": "2024-10-08T13:08:57.345685Z",
     "start_time": "2024-10-08T11:31:09.199843Z"
    }
   },
   "cell_type": "code",
   "source": "y_pred = model.predict(X)",
   "id": "97e85020e9487d76",
   "outputs": [],
   "execution_count": 28
  },
  {
   "metadata": {
    "ExecuteTime": {
     "end_time": "2024-10-08T13:08:57.345685Z",
     "start_time": "2024-10-08T11:31:09.246819Z"
    }
   },
   "cell_type": "code",
   "source": [
    "plt.scatter(X, y, color='red', label='Исходные данные')\n",
    "plt.plot(X, y_pred, color='blue', label='Восстановленная функция')\n",
    "\n",
    "plt.xlabel('X')\n",
    "plt.ylabel('y')\n",
    "plt.legend()\n",
    "plt.show()"
   ],
   "id": "b0540b44f5b1d646",
   "outputs": [
    {
     "data": {
      "text/plain": [
       "<Figure size 640x480 with 1 Axes>"
      ],
      "image/png": "[encoded data removed]"
     },
     "metadata": {},
     "output_type": "display_data"
    }
   ],
   "execution_count": 29
  }
 ],
 "metadata": {
  "kernelspec": {
   "display_name": "Python 3",
   "language": "python",
   "name": "python3"
  },
  "language_info": {
   "codemirror_mode": {
    "name": "ipython",
    "version": 2
   },
   "file_extension": ".py",
   "mimetype": "text/x-python",
   "name": "python",
   "nbconvert_exporter": "python",
   "pygments_lexer": "ipython2",
   "version": "2.7.6"
  }
 },
 "nbformat": 4,
 "nbformat_minor": 5
}
