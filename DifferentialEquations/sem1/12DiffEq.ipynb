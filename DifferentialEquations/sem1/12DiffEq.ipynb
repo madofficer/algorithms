{
 "cells": [
  {
   "cell_type": "markdown",
   "source": [
    "### Код к 12 задаче\n",
    "**ТЗ:** *Решение однородного ДУ 2го порядка с переменными коэффициентами через разложение второй производной в разность + РК4*"
   ],
   "metadata": {
    "collapsed": false
   },
   "id": "c4979136ca3c8d77"
  },
  {
   "cell_type": "code",
   "execution_count": 49,
   "id": "initial_id",
   "metadata": {
    "collapsed": true,
    "ExecuteTime": {
     "end_time": "2024-06-05T07:16:10.290550200Z",
     "start_time": "2024-06-05T07:16:10.253218500Z"
    }
   },
   "outputs": [],
   "source": [
    "import numpy as np\n",
    "import matplotlib.pyplot as plt\n",
    "from scipy.integrate import solve_ivp"
   ]
  },
  {
   "cell_type": "markdown",
   "source": [
    "### Дифференциальное уравнение второго порядка\n",
    "\n",
    "\n",
    "$$\n",
    "a_2(x) y'' + a_1(x) y' + a_0(x) y = 0\n",
    "$$\n",
    "\n",
    "Начальные условия:\n",
    "\n",
    "$$\n",
    "\\begin{cases}\n",
    "y_1 = y \\\\\n",
    "y_2 = y'\n",
    "\\end{cases}\n",
    "$$\n",
    "\n",
    "По разностной схеме имеем:\n",
    "$$\n",
    "y'_n = -\\frac{a_1(x) y_n + a_0(x) y'_{n-1}}{a_2(x)}\n",
    "$$\n"
   ],
   "metadata": {
    "collapsed": false
   },
   "id": "1e1a08b45eb50f13"
  },
  {
   "cell_type": "code",
   "outputs": [],
   "source": [
    "a2 = lambda x: 5 #y\"\n",
    "a1 = lambda x: 6 #y'\n",
    "a0 = lambda x: 7  #y"
   ],
   "metadata": {
    "collapsed": false,
    "ExecuteTime": {
     "end_time": "2024-06-05T07:16:10.294260200Z",
     "start_time": "2024-06-05T07:16:10.274577100Z"
    }
   },
   "id": "fa871ed8bee38b46",
   "execution_count": 50
  },
  {
   "cell_type": "code",
   "outputs": [],
   "source": [
    "def f(x, y, yp):\n",
    "    return (-a1(x) * yp + a0(x) * y) / a2(x)"
   ],
   "metadata": {
    "collapsed": false,
    "ExecuteTime": {
     "end_time": "2024-06-05T07:16:10.323714800Z",
     "start_time": "2024-06-05T07:16:10.298834400Z"
    }
   },
   "id": "7e69f2e2024d0142",
   "execution_count": 51
  },
  {
   "cell_type": "code",
   "outputs": [],
   "source": [
    "def runge_kutta_4(f, a2, a1, a0, x0, y0, yp0, dx, n) -> np.ndarray:\n",
    "    \"\"\"\n",
    "    Runge-Kutta\n",
    "    :param f: функция вычисление второй производной\n",
    "    :param a2: коэффициент при y\"\n",
    "    :param a1: коэффициент при y'\n",
    "    :param a0: коэффициент при y\n",
    "    :param x0: начальный x\n",
    "    :param y0: начальный y\n",
    "    :param yp0: первая производная y\n",
    "    :param dx: шаг интегрирования\n",
    "    :param n: кол-во шагов\n",
    "    :return: numpy.ndarray [x, y, y'] на каждом шаге\n",
    "    \"\"\"\n",
    "    F = np.zeros((n, 3))\n",
    "    F[0] = [x0, y0, yp0]\n",
    "\n",
    "    for i in range(1, n):\n",
    "        x, y, yp = F[i - 1]\n",
    "\n",
    "        k1 = dx * yp\n",
    "        l1 = dx * f(x, y, yp)\n",
    "\n",
    "        k2 = dx * (yp + 0.5 * l1)\n",
    "        l2 = dx * f(x + 0.5 * dx, y + 0.5 * k1, yp + 0.5 * l1)\n",
    "\n",
    "        k3 = dx * (yp + 0.5 * l2)\n",
    "        l3 = dx * f(x + 0.5 * dx, y + 0.5 * k2, yp + 0.5 * l2)\n",
    "\n",
    "        k4 = dx * (yp + l3)\n",
    "        l4 = dx * f(x + dx, y + k3, yp + l3)\n",
    "\n",
    "        y_next = y + (k1 + 2 * k2 + 2 * k3 + k4) / 6\n",
    "        yp_next = yp + (l1 + 2 * l2 + 2 * l3 + l4) / 6\n",
    "\n",
    "        F[i] = [x + dx, y_next, yp_next]\n",
    "\n",
    "    return F"
   ],
   "metadata": {
    "collapsed": false,
    "ExecuteTime": {
     "end_time": "2024-06-05T07:16:10.324978400Z",
     "start_time": "2024-06-05T07:16:10.309172700Z"
    }
   },
   "id": "caa62f5c01154c0d",
   "execution_count": 52
  },
  {
   "cell_type": "code",
   "outputs": [],
   "source": [
    "x_0, y_0, yp_0 = 0, 1, 5 / 6\n",
    "dx, n = 1e-2, 3000\n",
    "\n",
    "F = runge_kutta_4(f, a2, a1, a0, x_0, y_0, yp_0, dx, n)"
   ],
   "metadata": {
    "collapsed": false,
    "ExecuteTime": {
     "end_time": "2024-06-05T07:16:10.363563400Z",
     "start_time": "2024-06-05T07:16:10.346332Z"
    }
   },
   "id": "f56408d5ee80c9ea",
   "execution_count": 53
  },
  {
   "cell_type": "code",
   "outputs": [],
   "source": [
    "def exact_solution(t, y) -> list:\n",
    "    \"\"\"\n",
    "    Compute the exact solution\n",
    "    :param t: текущий x\n",
    "    :param y: текущие [y, y']\n",
    "    :return: [y', y\"]\n",
    "    \"\"\"\n",
    "    return [y[1], f(t, y[0], y[1])]"
   ],
   "metadata": {
    "collapsed": false,
    "ExecuteTime": {
     "end_time": "2024-06-05T07:16:10.365462900Z",
     "start_time": "2024-06-05T07:16:10.352082100Z"
    }
   },
   "id": "ba3b111e342d3375",
   "execution_count": 54
  },
  {
   "cell_type": "code",
   "outputs": [],
   "source": [
    "y_init = [y_0, yp_0]\n",
    "sol = solve_ivp(exact_solution, [x_0, dx * (n - 1)], y_init, t_eval=np.arange(x_0, dx * n, dx))"
   ],
   "metadata": {
    "collapsed": false,
    "ExecuteTime": {
     "end_time": "2024-06-05T07:16:10.388289600Z",
     "start_time": "2024-06-05T07:16:10.362441900Z"
    }
   },
   "id": "e4d68266d79c483b",
   "execution_count": 55
  },
  {
   "cell_type": "code",
   "outputs": [
    {
     "data": {
      "text/plain": "<Figure size 640x480 with 1 Axes>",
      "image/png": "[encoded data removed]"
     },
     "metadata": {},
     "output_type": "display_data"
    }
   ],
   "source": [
    "plt.plot(F[:, 0], F[:, 1], label='approx')\n",
    "plt.plot(sol.t, sol.y[0], label='exact', linestyle='dashed')\n",
    "plt.xlabel('x')\n",
    "plt.ylabel('y')\n",
    "plt.legend()\n",
    "plt.title('RK4 & Lib num solution')\n",
    "plt.show()"
   ],
   "metadata": {
    "collapsed": false,
    "ExecuteTime": {
     "end_time": "2024-06-05T07:16:10.525885600Z",
     "start_time": "2024-06-05T07:16:10.373066700Z"
    }
   },
   "id": "312ed3d3c815b97b",
   "execution_count": 56
  }
 ],
 "metadata": {
  "kernelspec": {
   "display_name": "Python 3",
   "language": "python",
   "name": "python3"
  },
  "language_info": {
   "codemirror_mode": {
    "name": "ipython",
    "version": 2
   },
   "file_extension": ".py",
   "mimetype": "text/x-python",
   "name": "python",
   "nbconvert_exporter": "python",
   "pygments_lexer": "ipython2",
   "version": "2.7.6"
  }
 },
 "nbformat": 4,
 "nbformat_minor": 5
}
