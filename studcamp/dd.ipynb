{
 "cells": [
  {
   "cell_type": "code",
   "execution_count": 1,
   "id": "initial_id",
   "metadata": {
    "collapsed": true,
    "ExecuteTime": {
     "end_time": "2024-02-28T10:36:47.159160300Z",
     "start_time": "2024-02-28T10:36:47.128855200Z"
    }
   },
   "outputs": [],
   "source": [
    "import pymorphy2"
   ]
  },
  {
   "cell_type": "code",
   "outputs": [],
   "source": [
    "morph = pymorphy2.MorphAnalyzer()\n",
    "dictionary = set()\n",
    "\n",
    "with open('dict.txt', 'r', encoding='utf-8') as f:\n",
    "    for word in f:\n",
    "        word = word.strip()\n",
    "        if word:\n",
    "            dictionary.add(word.lower())"
   ],
   "metadata": {
    "collapsed": false,
    "ExecuteTime": {
     "end_time": "2024-02-28T10:36:47.927359100Z",
     "start_time": "2024-02-28T10:36:47.831472700Z"
    }
   },
   "id": "2ac038bd269c0394",
   "execution_count": 2
  },
  {
   "cell_type": "code",
   "outputs": [],
   "source": [
    "def check_word(word):\n",
    "    word = word.lower()\n",
    "    if word in dictionary:\n",
    "        return f'\"{word}\" 0'\n",
    "\n",
    "    corrections = set()\n",
    "    parsed_word = morph.parse(word)[0]\n",
    "    if parsed_word.normal_form in dictionary:\n",
    "        corrections.add(parsed_word.normal_form)\n",
    "\n",
    "    for suggestion in parsed_word.lexeme:\n",
    "        if suggestion.word in dictionary:\n",
    "            corrections.add(suggestion.word)\n",
    "\n",
    "    if corrections:\n",
    "        return f'\"{word}\" 1 {\" \".join(corrections)}'\n",
    "\n",
    "    for form in parsed_word.lexeme:\n",
    "        for suggestion in morph.parse(form.word):\n",
    "            if suggestion.normal_form in dictionary:\n",
    "                corrections.add(suggestion.normal_form)\n",
    "                break\n",
    "\n",
    "    if corrections:\n",
    "        return f'\"{word}\" 2 {\" \".join(corrections)}'\n",
    "\n",
    "    return f'\"{word}\" 3+'"
   ],
   "metadata": {
    "collapsed": false,
    "ExecuteTime": {
     "end_time": "2024-02-28T10:37:28.142489300Z",
     "start_time": "2024-02-28T10:37:28.115442200Z"
    }
   },
   "id": "8009f05f8cf5019e",
   "execution_count": 3
  },
  {
   "cell_type": "code",
   "outputs": [],
   "source": [
    "with open('queries.txt', 'r', encoding='utf-8') as f_queries, open('output.txt', 'w', encoding='utf-8') as f_output:\n",
    "    for query in f_queries:\n",
    "        result = check_word(query.strip())\n",
    "        f_output.write(result + '\\n')"
   ],
   "metadata": {
    "collapsed": false,
    "ExecuteTime": {
     "end_time": "2024-02-28T10:43:00.754693600Z",
     "start_time": "2024-02-28T10:37:52.911198200Z"
    }
   },
   "id": "7437ddb5000796a2",
   "execution_count": 4
  },
  {
   "cell_type": "code",
   "outputs": [],
   "source": [],
   "metadata": {
    "collapsed": false
   },
   "id": "7f959681d2ba2f20"
  }
 ],
 "metadata": {
  "kernelspec": {
   "display_name": "Python 3",
   "language": "python",
   "name": "python3"
  },
  "language_info": {
   "codemirror_mode": {
    "name": "ipython",
    "version": 2
   },
   "file_extension": ".py",
   "mimetype": "text/x-python",
   "name": "python",
   "nbconvert_exporter": "python",
   "pygments_lexer": "ipython2",
   "version": "2.7.6"
  }
 },
 "nbformat": 4,
 "nbformat_minor": 5
}
