{
 "cells": [
  {
   "cell_type": "code",
   "execution_count": 1,
   "id": "initial_id",
   "metadata": {
    "collapsed": true,
    "ExecuteTime": {
     "end_time": "2024-02-27T21:18:48.107906300Z",
     "start_time": "2024-02-27T21:18:44.878269800Z"
    }
   },
   "outputs": [
    {
     "name": "stderr",
     "output_type": "stream",
     "text": [
      "D:\\Users\\Boris\\AppData\\Local\\Temp\\ipykernel_18388\\2758619612.py:1: DeprecationWarning: \n",
      "Pyarrow will become a required dependency of pandas in the next major release of pandas (pandas 3.0),\n",
      "(to allow more performant data types, such as the Arrow string type, and better interoperability with other libraries)\n",
      "but was not found to be installed on your system.\n",
      "If this would cause problems for you,\n",
      "please provide us feedback at https://github.com/pandas-dev/pandas/issues/54466\n",
      "        \n",
      "  import pandas as pd\n"
     ]
    }
   ],
   "source": [
    "import pandas as pd\n",
    "import torch\n",
    "import numpy as np"
   ]
  },
  {
   "cell_type": "code",
   "outputs": [],
   "source": [
    "def check_in_dictionary(word, dictionary):\n",
    "    return word in dictionary\n",
    "\n",
    "# Функция для исправления опечаток в слове\n",
    "def correct_spelling(word, dictionary):\n",
    "    possible_corrections = []\n",
    "    for dict_word in dictionary:\n",
    "        if len(dict_word) == len(word):\n",
    "            diff_count = sum(1 for a, b in zip(dict_word, word) if a != b)\n",
    "            if diff_count <= 1:\n",
    "                possible_corrections.append(dict_word)\n",
    "    return possible_corrections\n",
    "\n",
    "# Преобразование слова в вектор\n",
    "def word_to_tensor(word, vocab):\n",
    "    tensor = torch.zeros(len(word), dtype=torch.long)\n",
    "    for i, char in enumerate(word):\n",
    "        tensor[i] = vocab[char]\n",
    "    return tensor\n"
   ],
   "metadata": {
    "collapsed": false,
    "ExecuteTime": {
     "end_time": "2024-02-27T21:19:30.858278500Z",
     "start_time": "2024-02-27T21:19:30.837813700Z"
    }
   },
   "id": "508ee11de167aa94",
   "execution_count": 3
  },
  {
   "cell_type": "code",
   "outputs": [],
   "source": [
    "with open('dict.txt', 'r', encoding='utf-8') as f:\n",
    "    dictionary = set(word.strip() for word in f.readlines())\n",
    "\n",
    "# Загрузка списка запросов с ошибками\n",
    "with open('queries.txt', 'r', encoding='utf-8') as f:\n",
    "    queries = [word.strip() for word in f.readlines()]\n"
   ],
   "metadata": {
    "collapsed": false,
    "ExecuteTime": {
     "end_time": "2024-02-27T21:19:37.976664200Z",
     "start_time": "2024-02-27T21:19:37.889273Z"
    }
   },
   "id": "6495eac4e17a62f0",
   "execution_count": 4
  },
  {
   "cell_type": "code",
   "outputs": [],
   "source": [
    "alphabet = 'абвгдеёжзийклмнопрстуфхцчшщъыьэюя'\n",
    "vocab = {char: idx for idx, char in enumerate(alphabet)}\n",
    "\n",
    "results = []\n",
    "for query in queries:\n",
    "    corrections = correct_spelling(query, dictionary)\n",
    "    if check_in_dictionary(query, dictionary):\n",
    "        results.append(f'\"{query}\" 0')\n",
    "    elif corrections:\n",
    "        result_str = f'\"{query}\"'\n",
    "        for correction in corrections:\n",
    "            result_str += f' 1 \"{correction}\"'\n",
    "        results.append(result_str)\n",
    "    else:\n",
    "        results.append(f'\"{query}\" 3+')"
   ],
   "metadata": {
    "collapsed": false,
    "ExecuteTime": {
     "end_time": "2024-02-27T21:44:52.042605800Z",
     "start_time": "2024-02-27T21:19:46.908024200Z"
    }
   },
   "id": "87acf5a205213d7a",
   "execution_count": 5
  },
  {
   "cell_type": "code",
   "outputs": [],
   "source": [
    "df = pd.DataFrame(results, columns=['Результат проверки'])\n",
    "df.to_csv('spell_check_results.txt', index=False, header=False)"
   ],
   "metadata": {
    "collapsed": false,
    "ExecuteTime": {
     "end_time": "2024-02-27T21:46:26.508305500Z",
     "start_time": "2024-02-27T21:46:26.434484600Z"
    }
   },
   "id": "4f08494433f76e2c",
   "execution_count": 6
  },
  {
   "cell_type": "code",
   "outputs": [
    {
     "data": {
      "text/plain": "                      Результат проверки\n0      \"воспитаннясть\" 1 \"воспитанность\"\n1                      \"неоплатоэивк\" 3+\n2                          \"махаьный\" 3+\n3                            \"втникж\" 3+\n4                           \"эйдетки\" 3+\n...                                  ...\n99995                    \"ккибкосинг\" 3+\n99996             \"переусердствование\" 0\n99997                          \"жерло\" 0\n99998                 \"отдерыгивание\" 3+\n99999                  \"педантичность\" 0\n\n[100000 rows x 1 columns]",
      "text/html": "<div>\n<style scoped>\n    .dataframe tbody tr th:only-of-type {\n        vertical-align: middle;\n    }\n\n    .dataframe tbody tr th {\n        vertical-align: top;\n    }\n\n    .dataframe thead th {\n        text-align: right;\n    }\n</style>\n<table border=\"1\" class=\"dataframe\">\n  <thead>\n    <tr style=\"text-align: right;\">\n      <th></th>\n      <th>Результат проверки</th>\n    </tr>\n  </thead>\n  <tbody>\n    <tr>\n      <th>0</th>\n      <td>\"воспитаннясть\" 1 \"воспитанность\"</td>\n    </tr>\n    <tr>\n      <th>1</th>\n      <td>\"неоплатоэивк\" 3+</td>\n    </tr>\n    <tr>\n      <th>2</th>\n      <td>\"махаьный\" 3+</td>\n    </tr>\n    <tr>\n      <th>3</th>\n      <td>\"втникж\" 3+</td>\n    </tr>\n    <tr>\n      <th>4</th>\n      <td>\"эйдетки\" 3+</td>\n    </tr>\n    <tr>\n      <th>...</th>\n      <td>...</td>\n    </tr>\n    <tr>\n      <th>99995</th>\n      <td>\"ккибкосинг\" 3+</td>\n    </tr>\n    <tr>\n      <th>99996</th>\n      <td>\"переусердствование\" 0</td>\n    </tr>\n    <tr>\n      <th>99997</th>\n      <td>\"жерло\" 0</td>\n    </tr>\n    <tr>\n      <th>99998</th>\n      <td>\"отдерыгивание\" 3+</td>\n    </tr>\n    <tr>\n      <th>99999</th>\n      <td>\"педантичность\" 0</td>\n    </tr>\n  </tbody>\n</table>\n<p>100000 rows × 1 columns</p>\n</div>"
     },
     "execution_count": 7,
     "metadata": {},
     "output_type": "execute_result"
    }
   ],
   "source": [
    "df"
   ],
   "metadata": {
    "collapsed": false,
    "ExecuteTime": {
     "end_time": "2024-02-27T21:46:38.837797700Z",
     "start_time": "2024-02-27T21:46:38.819775900Z"
    }
   },
   "id": "513770aedd197084",
   "execution_count": 7
  },
  {
   "cell_type": "code",
   "outputs": [],
   "source": [
    "with open('spell_check_results.txt', 'r', encoding='utf-8') as f:\n",
    "    data = f.read()\n",
    "    \n",
    "    data_clear = data.replace('\"', '')\n",
    "    with open('out.txt', 'w', encoding='utf-8') as f:\n",
    "        f.write(data_clear)"
   ],
   "metadata": {
    "collapsed": false,
    "ExecuteTime": {
     "end_time": "2024-02-27T21:58:02.027214500Z",
     "start_time": "2024-02-27T21:58:01.981251Z"
    }
   },
   "id": "654de9c90923c6de",
   "execution_count": 8
  },
  {
   "cell_type": "code",
   "outputs": [],
   "source": [],
   "metadata": {
    "collapsed": false
   },
   "id": "dcbd32ddbefa9907"
  }
 ],
 "metadata": {
  "kernelspec": {
   "display_name": "Python 3",
   "language": "python",
   "name": "python3"
  },
  "language_info": {
   "codemirror_mode": {
    "name": "ipython",
    "version": 2
   },
   "file_extension": ".py",
   "mimetype": "text/x-python",
   "name": "python",
   "nbconvert_exporter": "python",
   "pygments_lexer": "ipython2",
   "version": "2.7.6"
  }
 },
 "nbformat": 4,
 "nbformat_minor": 5
}
