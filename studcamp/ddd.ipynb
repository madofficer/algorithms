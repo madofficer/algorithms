{
 "cells": [
  {
   "cell_type": "code",
   "execution_count": 3,
   "id": "initial_id",
   "metadata": {
    "collapsed": true,
    "ExecuteTime": {
     "end_time": "2024-02-28T10:49:02.702051800Z",
     "start_time": "2024-02-28T10:49:02.695073600Z"
    }
   },
   "outputs": [],
   "source": [
    "import editdistance"
   ]
  },
  {
   "cell_type": "code",
   "outputs": [],
   "source": [
    "dictionary = set()\n",
    "\n",
    "with open('dict.txt', 'r', encoding='utf-8') as f:\n",
    "    for word in f:\n",
    "        word = word.strip()\n",
    "        if word:\n",
    "            dictionary.add(word.lower())"
   ],
   "metadata": {
    "collapsed": false,
    "ExecuteTime": {
     "end_time": "2024-02-28T10:49:04.135074200Z",
     "start_time": "2024-02-28T10:49:04.098761Z"
    }
   },
   "id": "2cc872acf3ecd964",
   "execution_count": 4
  },
  {
   "cell_type": "code",
   "outputs": [],
   "source": [
    "def find_similar_words(word):\n",
    "    word = word.lower()\n",
    "    similar_words = []\n",
    "    \n",
    "    for dict_word in dictionary:\n",
    "        distance = editdistance.eval(word, dict_word)\n",
    "        if distance == 0:  # слово из словаря совпадает с заданным словом\n",
    "            return [f'\"{word}\" 0']\n",
    "        elif distance == 1:  # редакционное расстояние равно 1\n",
    "            similar_words.append(dict_word)\n",
    "    \n",
    "    if similar_words:\n",
    "        return [f'\"{word}\" 1 {\" \".join(similar_words)}']\n",
    "    \n",
    "    for dict_word in dictionary:\n",
    "        for similar_word in similar_words:\n",
    "            distance = editdistance.eval(similar_word, dict_word)\n",
    "            if distance == 1:\n",
    "                return [f'\"{word}\" 2 {similar_word} {dict_word}']\n",
    "    \n",
    "    return [f'\"{word}\" 3+']\n"
   ],
   "metadata": {
    "collapsed": false,
    "ExecuteTime": {
     "end_time": "2024-02-28T10:49:13.639339400Z",
     "start_time": "2024-02-28T10:49:13.624311800Z"
    }
   },
   "id": "fb42d66829fdbf5",
   "execution_count": 5
  },
  {
   "cell_type": "code",
   "outputs": [
    {
     "ename": "KeyboardInterrupt",
     "evalue": "",
     "output_type": "error",
     "traceback": [
      "\u001B[1;31m---------------------------------------------------------------------------\u001B[0m",
      "\u001B[1;31mKeyboardInterrupt\u001B[0m                         Traceback (most recent call last)",
      "Cell \u001B[1;32mIn[6], line 4\u001B[0m\n\u001B[0;32m      1\u001B[0m \u001B[38;5;28;01mwith\u001B[39;00m \u001B[38;5;28mopen\u001B[39m(\u001B[38;5;124m'\u001B[39m\u001B[38;5;124mqueries.txt\u001B[39m\u001B[38;5;124m'\u001B[39m, \u001B[38;5;124m'\u001B[39m\u001B[38;5;124mr\u001B[39m\u001B[38;5;124m'\u001B[39m, encoding\u001B[38;5;241m=\u001B[39m\u001B[38;5;124m'\u001B[39m\u001B[38;5;124mutf-8\u001B[39m\u001B[38;5;124m'\u001B[39m) \u001B[38;5;28;01mas\u001B[39;00m f_queries, \\\n\u001B[0;32m      2\u001B[0m      \u001B[38;5;28mopen\u001B[39m(\u001B[38;5;124m'\u001B[39m\u001B[38;5;124moutput.txt\u001B[39m\u001B[38;5;124m'\u001B[39m, \u001B[38;5;124m'\u001B[39m\u001B[38;5;124mw\u001B[39m\u001B[38;5;124m'\u001B[39m, encoding\u001B[38;5;241m=\u001B[39m\u001B[38;5;124m'\u001B[39m\u001B[38;5;124mutf-8\u001B[39m\u001B[38;5;124m'\u001B[39m) \u001B[38;5;28;01mas\u001B[39;00m f_output:\n\u001B[0;32m      3\u001B[0m     \u001B[38;5;28;01mfor\u001B[39;00m query \u001B[38;5;129;01min\u001B[39;00m f_queries:\n\u001B[1;32m----> 4\u001B[0m         similar_words \u001B[38;5;241m=\u001B[39m \u001B[43mfind_similar_words\u001B[49m\u001B[43m(\u001B[49m\u001B[43mquery\u001B[49m\u001B[38;5;241;43m.\u001B[39;49m\u001B[43mstrip\u001B[49m\u001B[43m(\u001B[49m\u001B[43m)\u001B[49m\u001B[43m)\u001B[49m\n\u001B[0;32m      5\u001B[0m         \u001B[38;5;28;01mfor\u001B[39;00m line \u001B[38;5;129;01min\u001B[39;00m similar_words:\n\u001B[0;32m      6\u001B[0m             f_output\u001B[38;5;241m.\u001B[39mwrite(line \u001B[38;5;241m+\u001B[39m \u001B[38;5;124m'\u001B[39m\u001B[38;5;130;01m\\n\u001B[39;00m\u001B[38;5;124m'\u001B[39m)\n",
      "Cell \u001B[1;32mIn[5], line -1\u001B[0m, in \u001B[0;36mfind_similar_words\u001B[1;34m(word)\u001B[0m\n\u001B[0;32m      0\u001B[0m <Error retrieving source code with stack_data see ipython/ipython#13598>\n",
      "\u001B[1;31mKeyboardInterrupt\u001B[0m: "
     ]
    }
   ],
   "source": [
    "with open('queries.txt', 'r', encoding='utf-8') as f_queries, \\\n",
    "     open('output.txt', 'w', encoding='utf-8') as f_output:\n",
    "    for query in f_queries:\n",
    "        similar_words = find_similar_words(query.strip())\n",
    "        for line in similar_words:\n",
    "            f_output.write(line + '\\n')"
   ],
   "metadata": {
    "collapsed": false,
    "ExecuteTime": {
     "end_time": "2024-02-28T11:08:56.979356200Z",
     "start_time": "2024-02-28T10:49:20.605386200Z"
    }
   },
   "id": "3626e3d9889987dc",
   "execution_count": 6
  },
  {
   "cell_type": "code",
   "outputs": [],
   "source": [],
   "metadata": {
    "collapsed": false
   },
   "id": "927ea17025a5b816"
  }
 ],
 "metadata": {
  "kernelspec": {
   "display_name": "Python 3",
   "language": "python",
   "name": "python3"
  },
  "language_info": {
   "codemirror_mode": {
    "name": "ipython",
    "version": 2
   },
   "file_extension": ".py",
   "mimetype": "text/x-python",
   "name": "python",
   "nbconvert_exporter": "python",
   "pygments_lexer": "ipython2",
   "version": "2.7.6"
  }
 },
 "nbformat": 4,
 "nbformat_minor": 5
}
