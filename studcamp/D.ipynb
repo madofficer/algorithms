{
 "cells": [
  {
   "cell_type": "code",
   "outputs": [],
   "source": [
    "import torch\n",
    "import torch.nn.functional as F\n",
    "import torch.optim as optim\n",
    "import torch.nn as nn\n",
    "from torch.utils.data import DataLoader, Dataset\n",
    "import numpy as np"
   ],
   "metadata": {
    "collapsed": false,
    "ExecuteTime": {
     "end_time": "2024-02-28T08:37:39.366665200Z",
     "start_time": "2024-02-28T08:37:37.488042100Z"
    }
   },
   "id": "6da58bfca7993a6a",
   "execution_count": 1
  },
  {
   "cell_type": "code",
   "outputs": [],
   "source": [
    "with open('dict.txt', 'r', encoding='utf-8') as f:\n",
    "    lines = [line.strip() for line in f.readlines()]\n",
    "\n",
    "# Вывод словаря с токенами"
   ],
   "metadata": {
    "collapsed": false,
    "ExecuteTime": {
     "end_time": "2024-02-28T08:37:39.392167900Z",
     "start_time": "2024-02-28T08:37:39.368666Z"
    }
   },
   "id": "81a37e399d6bd9d3",
   "execution_count": 2
  },
  {
   "cell_type": "code",
   "outputs": [
    {
     "data": {
      "text/plain": "[('абажур', 'ажбажур'),\n ('абажурчик', 'абажучрик'),\n ('абазин', 'абазни'),\n ('абазинец', 'абазиняец'),\n ('абазинцы', 'аазинцы'),\n ('абазинка', 'абназинка'),\n ('абазия', 'баазия'),\n ('абандон', 'абандо'),\n ('аббат', 'аббт'),\n ('аббатиса', 'бабатиса')]"
     },
     "execution_count": 3,
     "metadata": {},
     "output_type": "execute_result"
    }
   ],
   "source": [
    "import random\n",
    "\n",
    "def generate_typo(word):\n",
    "    \"\"\"\n",
    "    Генерирует опечатку в слове. Типы опечаток: удаление буквы, добавление буквы, перестановка двух букв.\n",
    "    \"\"\"\n",
    "    typo_type = random.choice(['delete', 'add', 'transpose'])\n",
    "    if typo_type == 'delete' and len(word) > 1:  # Удаление буквы\n",
    "        pos = random.randint(0, len(word) - 1)\n",
    "        return word[:pos] + word[pos + 1:]\n",
    "    elif typo_type == 'add':  # Добавление буквы\n",
    "        pos = random.randint(0, len(word))\n",
    "        char = random.choice('абвгдеёжзийклмнопрстуфхцчшщъыьэюя')\n",
    "        return word[:pos] + char + word[pos:]\n",
    "    elif typo_type == 'transpose' and len(word) > 1:  # Перестановка двух букв\n",
    "        pos = random.randint(0, len(word) - 2)\n",
    "        return word[:pos] + word[pos + 1] + word[pos] + word[pos + 2:]\n",
    "    else:  # Если слово состоит из одной буквы, возвращаем его без изменений\n",
    "        return word\n",
    "\n",
    "# Генерация примера тренировочных данных\n",
    "training_data = [(word, generate_typo(word)) for word in lines[:1000]]  # Генерируем данные для первых 1000 слов\n",
    "\n",
    "# Показываем несколько примеров сгенерированных пар\n",
    "training_data[:10]\n"
   ],
   "metadata": {
    "collapsed": false,
    "ExecuteTime": {
     "end_time": "2024-02-28T08:37:39.415321800Z",
     "start_time": "2024-02-28T08:37:39.403167600Z"
    }
   },
   "id": "656411092d376bd5",
   "execution_count": 3
  },
  {
   "cell_type": "code",
   "outputs": [],
   "source": [
    "class TypoDataset(Dataset):\n",
    "    def __init__(self, word_list):\n",
    "        self.word_list = word_list\n",
    "    \n",
    "    def __len__(self):\n",
    "        return len(self.word_list)\n",
    "    \n",
    "    def __getitem__(self, idx):\n",
    "        correct_word, typo_word = self.word_list[idx]\n",
    "        return typo_word, correct_word"
   ],
   "metadata": {
    "collapsed": false,
    "ExecuteTime": {
     "end_time": "2024-02-28T08:37:39.416323400Z",
     "start_time": "2024-02-28T08:37:39.410196900Z"
    }
   },
   "id": "b8f4f798a2a146a5",
   "execution_count": 4
  },
  {
   "cell_type": "code",
   "outputs": [],
   "source": [
    "dataset = TypoDataset(training_data)  # Используйте training_data, сгенерированные ранее\n",
    "data_loader = DataLoader(dataset, batch_size=32, shuffle=True)"
   ],
   "metadata": {
    "collapsed": false,
    "ExecuteTime": {
     "end_time": "2024-02-28T08:37:39.452305800Z",
     "start_time": "2024-02-28T08:37:39.419411600Z"
    }
   },
   "id": "4eaec0eda27ea1e4",
   "execution_count": 5
  },
  {
   "cell_type": "code",
   "outputs": [],
   "source": [
    "class Encoder(nn.Module):\n",
    "    def __init__(self, input_size, hidden_size):\n",
    "        super(Encoder, self).__init__()\n",
    "        self.hidden_size = hidden_size\n",
    "        self.embedding = nn.Embedding(input_size, hidden_size)\n",
    "        self.lstm = nn.LSTM(hidden_size, hidden_size)\n",
    "    \n",
    "    def forward(self, input, hidden):\n",
    "        embedded = self.embedding(input).view(1, 1, -1)\n",
    "        output, hidden = self.lstm(embedded, hidden)\n",
    "        return output, hidden\n",
    "    \n",
    "    def initHidden(self):\n",
    "        return (torch.zeros(1, 1, self.hidden_size),\n",
    "                torch.zeros(1, 1, self.hidden_size))"
   ],
   "metadata": {
    "collapsed": false,
    "ExecuteTime": {
     "end_time": "2024-02-28T08:37:39.453310100Z",
     "start_time": "2024-02-28T08:37:39.428221400Z"
    }
   },
   "id": "488c74053c2b0d4a",
   "execution_count": 6
  },
  {
   "cell_type": "code",
   "outputs": [],
   "source": [
    "class Decoder(nn.Module):\n",
    "    def __init__(self, hidden_size, output_size):\n",
    "        super(Decoder, self).__init__()\n",
    "        self.hidden_size = hidden_size\n",
    "        self.embedding = nn.Embedding(output_size, hidden_size)\n",
    "        self.lstm = nn.LSTM(hidden_size, hidden_size)\n",
    "        self.out = nn.Linear(hidden_size, output_size)\n",
    "        self.softmax = nn.LogSoftmax(dim=1)\n",
    "    \n",
    "    def forward(self, input, hidden):\n",
    "        output = self.embedding(input).view(1, 1, -1)\n",
    "        output = F.relu(output)\n",
    "        output, hidden = self.lstm(output, hidden)\n",
    "        output = self.softmax(self.out(output[0]))\n",
    "        return output, hidden\n",
    "    \n",
    "    def initHidden(self):\n",
    "        return (torch.zeros(1, 1, self.hidden_size),\n",
    "                torch.zeros(1, 1, self.hidden_size))"
   ],
   "metadata": {
    "collapsed": false,
    "ExecuteTime": {
     "end_time": "2024-02-28T08:37:39.473302700Z",
     "start_time": "2024-02-28T08:37:39.446295600Z"
    }
   },
   "id": "af32c07031dadd6b",
   "execution_count": 7
  },
  {
   "cell_type": "code",
   "outputs": [],
   "source": [
    "input_size = 256  # Пример размера входного словаря\n",
    "output_size = 256  # Пример размера выходного словаря\n",
    "hidden_size = 512  # Размер скрытого слоя\n",
    "encoder = Encoder(input_size, hidden_size)\n",
    "decoder = Decoder(hidden_size, output_size)\n",
    "\n",
    "# Оптимизатор и функция потерь\n",
    "optimizer = optim.Adam(list(encoder.parameters()) + list(decoder.parameters()), lr=0.01)\n",
    "criterion = nn.NLLLoss()"
   ],
   "metadata": {
    "collapsed": false,
    "ExecuteTime": {
     "end_time": "2024-02-28T08:37:40.117505700Z",
     "start_time": "2024-02-28T08:37:39.453310100Z"
    }
   },
   "id": "1ee0593605a745fc",
   "execution_count": 8
  },
  {
   "cell_type": "code",
   "outputs": [],
   "source": [
    "def train(input_tensor, target_tensor, encoder, decoder, optimizer, criterion):\n",
    "    optimizer.zero_grad()\n",
    "\n",
    "    encoder_hidden = encoder.initHidden()\n",
    "    encoder_outputs = torch.zeros(encoder.hidden_size)\n",
    "\n",
    "    input_length = input_tensor.size(0)\n",
    "    target_length = target_tensor.size(0)\n",
    "\n",
    "    loss = 0\n",
    "\n",
    "    for ei in range(input_length):\n",
    "        encoder_output, encoder_hidden = encoder(input_tensor[ei], encoder_hidden)\n",
    "        encoder_outputs[ei] = encoder_output[0, 0]\n",
    "\n",
    "    decoder_input = target_tensor[0]  # Начинаем с первого символа\n",
    "\n",
    "    decoder_hidden = encoder_hidden\n",
    "\n",
    "    for di in range(1, target_length):\n",
    "        decoder_output, decoder_hidden = decoder(decoder_input, decoder_hidden)\n",
    "        loss += criterion(decoder_output, target_tensor[di].unsqueeze(0))\n",
    "        decoder_input = target_tensor[di]  # Используем правильный следующий символ для декодирования\n",
    "\n",
    "    loss.backward()\n",
    "    optimizer.step()\n",
    "\n",
    "    return loss.item() / target_length"
   ],
   "metadata": {
    "collapsed": false,
    "ExecuteTime": {
     "end_time": "2024-02-28T08:37:40.129388900Z",
     "start_time": "2024-02-28T08:37:40.122220200Z"
    }
   },
   "id": "2ff23e1869300a21",
   "execution_count": 9
  },
  {
   "cell_type": "code",
   "outputs": [
    {
     "ename": "AttributeError",
     "evalue": "'tuple' object has no attribute 'size'",
     "output_type": "error",
     "traceback": [
      "\u001B[1;31m---------------------------------------------------------------------------\u001B[0m",
      "\u001B[1;31mAttributeError\u001B[0m                            Traceback (most recent call last)",
      "Cell \u001B[1;32mIn[10], line 5\u001B[0m\n\u001B[0;32m      1\u001B[0m \u001B[38;5;28;01mfor\u001B[39;00m epoch \u001B[38;5;129;01min\u001B[39;00m \u001B[38;5;28mrange\u001B[39m(\u001B[38;5;241m1\u001B[39m):  \u001B[38;5;66;03m# Пример с одной эпохой для демонстрации\u001B[39;00m\n\u001B[0;32m      2\u001B[0m     \u001B[38;5;28;01mfor\u001B[39;00m input_tensor, target_tensor \u001B[38;5;129;01min\u001B[39;00m data_loader:\n\u001B[0;32m      3\u001B[0m         \u001B[38;5;66;03m# Здесь необходимо преобразовать input_tensor и target_tensor к нужному формату\u001B[39;00m\n\u001B[0;32m      4\u001B[0m         \u001B[38;5;66;03m# Например, используя функцию для преобразования слов в тензоры индексов\u001B[39;00m\n\u001B[1;32m----> 5\u001B[0m         loss \u001B[38;5;241m=\u001B[39m \u001B[43mtrain\u001B[49m\u001B[43m(\u001B[49m\u001B[43minput_tensor\u001B[49m\u001B[43m,\u001B[49m\u001B[43m \u001B[49m\u001B[43mtarget_tensor\u001B[49m\u001B[43m,\u001B[49m\u001B[43m \u001B[49m\u001B[43mencoder\u001B[49m\u001B[43m,\u001B[49m\u001B[43m \u001B[49m\u001B[43mdecoder\u001B[49m\u001B[43m,\u001B[49m\u001B[43m \u001B[49m\u001B[43moptimizer\u001B[49m\u001B[43m,\u001B[49m\u001B[43m \u001B[49m\u001B[43mcriterion\u001B[49m\u001B[43m)\u001B[49m\n\u001B[0;32m      6\u001B[0m         \u001B[38;5;28mprint\u001B[39m(\u001B[38;5;124mf\u001B[39m\u001B[38;5;124m'\u001B[39m\u001B[38;5;124mLoss: \u001B[39m\u001B[38;5;132;01m{\u001B[39;00mloss\u001B[38;5;132;01m}\u001B[39;00m\u001B[38;5;124m'\u001B[39m)\n",
      "Cell \u001B[1;32mIn[9], line 7\u001B[0m, in \u001B[0;36mtrain\u001B[1;34m(input_tensor, target_tensor, encoder, decoder, optimizer, criterion)\u001B[0m\n\u001B[0;32m      4\u001B[0m encoder_hidden \u001B[38;5;241m=\u001B[39m encoder\u001B[38;5;241m.\u001B[39minitHidden()\n\u001B[0;32m      5\u001B[0m encoder_outputs \u001B[38;5;241m=\u001B[39m torch\u001B[38;5;241m.\u001B[39mzeros(encoder\u001B[38;5;241m.\u001B[39mhidden_size)\n\u001B[1;32m----> 7\u001B[0m input_length \u001B[38;5;241m=\u001B[39m \u001B[43minput_tensor\u001B[49m\u001B[38;5;241;43m.\u001B[39;49m\u001B[43msize\u001B[49m(\u001B[38;5;241m0\u001B[39m)\n\u001B[0;32m      8\u001B[0m target_length \u001B[38;5;241m=\u001B[39m target_tensor\u001B[38;5;241m.\u001B[39msize(\u001B[38;5;241m0\u001B[39m)\n\u001B[0;32m     10\u001B[0m loss \u001B[38;5;241m=\u001B[39m \u001B[38;5;241m0\u001B[39m\n",
      "\u001B[1;31mAttributeError\u001B[0m: 'tuple' object has no attribute 'size'"
     ]
    }
   ],
   "source": [
    "for epoch in range(1):  # Пример с одной эпохой для демонстрации\n",
    "    for input_tensor, target_tensor in data_loader:\n",
    "        # Здесь необходимо преобразовать input_tensor и target_tensor к нужному формату\n",
    "        # Например, используя функцию для преобразования слов в тензоры индексов\n",
    "        loss = train(input_tensor, target_tensor, encoder, decoder, optimizer, criterion)\n",
    "        print(f'Loss: {loss}')"
   ],
   "metadata": {
    "collapsed": false,
    "ExecuteTime": {
     "end_time": "2024-02-28T08:38:03.380452700Z",
     "start_time": "2024-02-28T08:38:03.181837300Z"
    }
   },
   "id": "7203d9f02020d084",
   "execution_count": 10
  },
  {
   "cell_type": "code",
   "outputs": [],
   "source": [],
   "metadata": {
    "collapsed": false
   },
   "id": "59e40966f48cba67"
  }
 ],
 "metadata": {
  "kernelspec": {
   "display_name": "Python 3",
   "language": "python",
   "name": "python3"
  },
  "language_info": {
   "codemirror_mode": {
    "name": "ipython",
    "version": 2
   },
   "file_extension": ".py",
   "mimetype": "text/x-python",
   "name": "python",
   "nbconvert_exporter": "python",
   "pygments_lexer": "ipython2",
   "version": "2.7.6"
  }
 },
 "nbformat": 4,
 "nbformat_minor": 5
}
